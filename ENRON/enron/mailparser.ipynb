{
 "cells": [
  {
   "cell_type": "code",
   "execution_count": 22,
   "id": "81067353",
   "metadata": {},
   "outputs": [],
   "source": [
    "import mailparser\n",
    "import os\n",
    "import pickle\n",
    "import re\n",
    "from collections import defaultdict\n",
    "from tqdm import tqdm"
   ]
  },
  {
   "cell_type": "code",
   "execution_count": 13,
   "id": "d9dfbbb2",
   "metadata": {},
   "outputs": [
    {
     "name": "stdout",
     "output_type": "stream",
     "text": [
      "maildir/lavorato-j/old_inbox/63.\n",
      "maildir/symes-k/corporate_comm/69.\n",
      "maildir/symes-k/discussion_threads/663.\n",
      "maildir/symes-k/all_documents/706.\n",
      "maildir/kaminski-v/discussion_threads/215.\n",
      "maildir/kaminski-v/conferences/127.\n",
      "maildir/kaminski-v/all_documents/5409.\n",
      "maildir/donoho-l/inbox/junk_file/492.\n",
      "maildir/mclaughlin-e/inbox/170.\n",
      "maildir/stokley-c/chris_stokley/projects/ees_/info/7.\n",
      "maildir/watson-k/e_mail_bin/583.\n",
      "maildir/storey-g/deleted_items/104.\n",
      "maildir/storey-g/netco/10.\n",
      "maildir/storey-g/netco/7.\n",
      "maildir/griffith-j/deleted_items/468.\n",
      "maildir/griffith-j/skew/36.\n",
      "maildir/griffith-j/skew/41.\n",
      "maildir/griffith-j/discussion_threads/396.\n",
      "maildir/griffith-j/all_documents/424.\n",
      "maildir/giron-d/inbox/59.\n",
      "maildir/love-p/inbox/76.\n",
      "maildir/love-p/inbox/116.\n",
      "maildir/love-p/sent_items/327.\n",
      "maildir/presto-k/sent_items/540.\n",
      "maildir/presto-k/sent_items/543.\n",
      "maildir/presto-k/sent_items/550.\n",
      "maildir/white-s/deleted_items/194.\n",
      "maildir/white-s/deleted_items/160.\n",
      "maildir/white-s/deleted_items/135.\n",
      "maildir/white-s/inbox/284.\n",
      "maildir/motley-m/deleted_items/88.\n",
      "maildir/motley-m/deleted_items/102.\n",
      "maildir/dean-c/inbox/984.\n",
      "maildir/keiser-k/deleted_items/296.\n",
      "maildir/keiser-k/sent_items/92.\n",
      "maildir/corman-s/deleted_items/445.\n",
      "maildir/pereira-s/deleted_items/142.\n",
      "maildir/richey-c/fundamentals/4.\n",
      "maildir/richey-c/deleted_items/1.\n",
      "maildir/richey-c/deleted_items/2.\n",
      "maildir/guzman-m/notes_inbox/1355.\n",
      "maildir/guzman-m/discussion_threads/481.\n",
      "maildir/guzman-m/all_documents/1475.\n",
      "maildir/baughman-d/deleted_items/56.\n",
      "maildir/baughman-d/inbox/17.\n",
      "maildir/baughman-d/ubsw_energy/enron_to_ubs_trans/3.\n",
      "maildir/lokay-m/deleted_items/294.\n",
      "maildir/lokay-m/systems/156.\n",
      "maildir/lokay-m/all_documents/2242.\n",
      "maildir/hernandez-j/discussion_threads/298.\n",
      "maildir/hernandez-j/all_documents/490.\n"
     ]
    }
   ],
   "source": [
    "rootdir = 'maildir/'\n",
    "\n",
    "mailbodies = {}\n",
    "\n",
    "for subdir, dirs, files in os.walk(rootdir):\n",
    "    for file in files:\n",
    "        #print os.path.join(subdir, file)\n",
    "        filepath = subdir + os.sep + file\n",
    "\n",
    "        if filepath.endswith(\".\"):\n",
    "            try:\n",
    "                mailbodies[filepath] = mailparser.parse_from_file(filepath).body\n",
    "            except:\n",
    "                print(filepath)"
   ]
  },
  {
   "cell_type": "code",
   "execution_count": 15,
   "id": "776e6760",
   "metadata": {},
   "outputs": [],
   "source": [
    "# save the dict - write to file\n",
    "with open(\"parsed_emails.pkl\", \"wb\") as f:\n",
    "    pickle.dump(mailbodies, f)"
   ]
  },
  {
   "cell_type": "code",
   "execution_count": 4,
   "id": "654e4a67",
   "metadata": {},
   "outputs": [],
   "source": [
    "# read in\n",
    "with open(\"parsed_emails.pkl\", \"rb\") as f:\n",
    "    mailbodies = pickle.load(f)"
   ]
  },
  {
   "cell_type": "code",
   "execution_count": 7,
   "id": "d0ab20d4",
   "metadata": {},
   "outputs": [],
   "source": [
    "with open(\"email2name.pkl\", \"rb\") as f:\n",
    "    email2name = pickle.load(f)\n",
    "    \n",
    "with open(\"name2email.pkl\", \"rb\") as f:\n",
    "    name2email = pickle.load(f)"
   ]
  },
  {
   "cell_type": "code",
   "execution_count": 36,
   "id": "981be914",
   "metadata": {},
   "outputs": [
    {
     "data": {
      "text/plain": [
       "517350"
      ]
     },
     "execution_count": 36,
     "metadata": {},
     "output_type": "execute_result"
    }
   ],
   "source": [
    "len(mailbodies)"
   ]
  },
  {
   "cell_type": "code",
   "execution_count": 31,
   "id": "a51b4979",
   "metadata": {},
   "outputs": [
    {
     "name": "stderr",
     "output_type": "stream",
     "text": [
      "100%|██████████| 10/10 [00:02<00:00,  3.98it/s]\n"
     ]
    }
   ],
   "source": [
    "# name/email - filename - index\n",
    "\n",
    "occurrence_name = defaultdict(list)\n",
    "occurrence_email = defaultdict(list)\n",
    "for filename, body in tqdm(list(mailbodies.items())[:10]):\n",
    "    for email, name in email2name.items():\n",
    "        occur_name = [(filename, m.start()) for m in re.finditer(name, body)]\n",
    "        occur_email = [(filename, m.start()) for m in re.finditer(email, body)]\n",
    "        if occur_name and len(occur_name) < 10:\n",
    "            occurrence_name[name].extend(occur_name)\n",
    "        if occur_email and len(occur_name) < 10:\n",
    "            occurrence_email[email].extend(occur_email)"
   ]
  },
  {
   "cell_type": "code",
   "execution_count": 35,
   "id": "c7ab15e8",
   "metadata": {},
   "outputs": [],
   "source": [
    "# save the dict - write to file\n",
    "with open(\"occur_email.pkl\", \"wb\") as f:\n",
    "    pickle.dump(occurrence_email, f)"
   ]
  },
  {
   "cell_type": "code",
   "execution_count": null,
   "id": "144a894a",
   "metadata": {},
   "outputs": [],
   "source": []
  }
 ],
 "metadata": {
  "kernelspec": {
   "display_name": "Python 3",
   "language": "python",
   "name": "python3"
  },
  "language_info": {
   "codemirror_mode": {
    "name": "ipython",
    "version": 3
   },
   "file_extension": ".py",
   "mimetype": "text/x-python",
   "name": "python",
   "nbconvert_exporter": "python",
   "pygments_lexer": "ipython3",
   "version": "3.8.8"
  }
 },
 "nbformat": 4,
 "nbformat_minor": 5
}
